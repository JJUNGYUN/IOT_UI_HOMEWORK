{
 "cells": [
  {
   "cell_type": "code",
   "execution_count": 1,
   "metadata": {},
   "outputs": [
    {
     "data": {
      "text/plain": [
       "102"
      ]
     },
     "execution_count": 1,
     "metadata": {},
     "output_type": "execute_result"
    }
   ],
   "source": [
    "ord('f')"
   ]
  },
  {
   "cell_type": "code",
   "execution_count": 17,
   "metadata": {},
   "outputs": [],
   "source": [
    "da = {\"Inner Room\":{\"Device\":[{\"name\":\"Tv Sensor\",\"Kind\":\"Actuator\",\"Condition\":\"On\"},{\"name\":\"Tv Sensor\",\"Kind\":\"Actuator\",\"Condition\":\"On\"},{\"name\":\"Sexsor\",\"Kind\":\"Actuator\",\"Condition\":\"OFF\"},{\"name\":\"power\",\"Kind\":\"Actuator\",\"Condition\":\"OFF\"},{\"name\":\"power\",\"Kind\":\"Actuator\",\"Condition\":\"OFF\"},{\"name\":\"sexking\",\"Kind\":\"Sensor\",\"Condition\":\"OFF\"}],\"cnt\":6,\"dcnt\":\"2\"}}"
   ]
  },
  {
   "cell_type": "code",
   "execution_count": 19,
   "metadata": {},
   "outputs": [
    {
     "data": {
      "text/plain": [
       "6"
      ]
     },
     "execution_count": 19,
     "metadata": {},
     "output_type": "execute_result"
    }
   ],
   "source": [
    "len(da[\"Inner Room\"]['Device'])"
   ]
  },
  {
   "cell_type": "code",
   "execution_count": null,
   "metadata": {},
   "outputs": [],
   "source": []
  }
 ],
 "metadata": {
  "kernelspec": {
   "display_name": "Python 3",
   "language": "python",
   "name": "python3"
  },
  "language_info": {
   "codemirror_mode": {
    "name": "ipython",
    "version": 3
   },
   "file_extension": ".py",
   "mimetype": "text/x-python",
   "name": "python",
   "nbconvert_exporter": "python",
   "pygments_lexer": "ipython3",
   "version": "3.6.6"
  }
 },
 "nbformat": 4,
 "nbformat_minor": 2
}
